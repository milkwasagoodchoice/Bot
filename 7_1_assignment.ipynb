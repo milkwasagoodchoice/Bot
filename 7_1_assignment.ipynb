{
  "cells": [
    {
      "cell_type": "markdown",
      "metadata": {
        "id": "view-in-github",
        "colab_type": "text"
      },
      "source": [
        "<a href=\"https://colab.research.google.com/github/milkwasagoodchoice/Bot/blob/main/7_1_assignment.ipynb\" target=\"_parent\"><img src=\"https://colab.research.google.com/assets/colab-badge.svg\" alt=\"Open In Colab\"/></a>"
      ]
    },
    {
      "cell_type": "markdown",
      "metadata": {
        "id": "K-xXkt9Ztf7J"
      },
      "source": [
        "# Assignment 7.1\n",
        "\n",
        "> Replace all TODOs with your code.\n",
        ">\n",
        "> Do not change any other code and do not add/remove cells!"
      ]
    },
    {
      "cell_type": "code",
      "execution_count": null,
      "metadata": {
        "id": "sGdc6BbbALg9"
      },
      "outputs": [],
      "source": [
        "# Do not edit this cell\n",
        "\n",
        "from typing import List, Dict"
      ]
    },
    {
      "cell_type": "markdown",
      "metadata": {
        "id": "cfhcjaX0vXXa"
      },
      "source": [
        "## Clients"
      ]
    },
    {
      "cell_type": "markdown",
      "metadata": {
        "id": "Vlz14hyr6wV6"
      },
      "source": [
        "### Task 1\n",
        "\n",
        "Write a function that takes a GitHub repository name as input and uses the [GitHub Repository API](https://docs.github.com/en/rest/repos) to retrieve and return information about the specified repository, including:\n",
        "\n",
        "* Repository Name\n",
        "* Owner\n",
        "* Description\n",
        "* License (if available)\n",
        "* Creation Date\n",
        "\n",
        "Use the `requests` module for this task."
      ]
    },
    {
      "cell_type": "code",
      "execution_count": null,
      "metadata": {
        "id": "vDYn-dRb7xIX"
      },
      "outputs": [],
      "source": [
        "import requests\n",
        "from typing import Dict\n",
        "\n",
        "def get_repository_info(repo_name: str) -> Dict[str, str]:\n",
        "    url = f\"https://api.github.com/repos/{repo_name}\"\n",
        "    try:\n",
        "        response = requests.get(url)\n",
        "        response.raise_for_status()\n",
        "        repo_data = response.json()\n",
        "\n",
        "        repo_info = {\n",
        "            \"Repository Name\": repo_data.get(\"name\"),\n",
        "            \"Owner\": repo_data.get(\"owner\", {}).get(\"login\"),\n",
        "            \"Description\": repo_data.get(\"description\", \"No description\"),\n",
        "            \"License\": repo_data[\"license\"][\"name\"] if repo_data.get(\"license\") else \"No license\",\n",
        "            \"Creation Date\": repo_data.get(\"created_at\")\n",
        "        }\n",
        "        return repo_info\n",
        "\n",
        "    except requests.exceptions.RequestException as e:\n",
        "        print(f\"Error fetching repository information: {e}\")\n",
        "        return {}\n",
        "\n",
        "print(get_repository_info(\"octocat/Hello-World\"))\n"
      ]
    },
    {
      "cell_type": "markdown",
      "metadata": {
        "id": "0TC34gv79VEo"
      },
      "source": [
        "### Task 2\n",
        "\n",
        "Write a function that takes a GitHub repository name and uses the [GitHub Commits API](https://docs.github.com/en/rest/commits/commits) to retrieve and return information about the five most recent commits in a selected GitHub repository, including:\n",
        "* Commit Message\n",
        "* Author\n",
        "* Date\n",
        "* Link to the commit on GitHub\n",
        "\n",
        "Use the `requests` module for this task."
      ]
    },
    {
      "cell_type": "code",
      "execution_count": null,
      "metadata": {
        "id": "Kf2284dT-atu"
      },
      "outputs": [],
      "source": [
        "import requests\n",
        "from typing import List, Dict\n",
        "\n",
        "\n",
        "def get_recent_commits(repo_name: str) -> List[Dict[str, str]]:\n",
        "    url = f\"https://api.github.com/repos/{repo_name}/commits\"\n",
        "    try:\n",
        "        response = requests.get(url, params={\"per_page\": 5})\n",
        "        response.raise_for_status()\n",
        "        commits_data = response.json()\n",
        "\n",
        "        recent_commits = []\n",
        "        for commit in commits_data:\n",
        "            commit_info = {\n",
        "                \"Commit Message\": commit[\"commit\"][\"message\"],\n",
        "                \"Author\": commit[\"commit\"][\"author\"][\"name\"],\n",
        "                \"Date\": commit[\"commit\"][\"author\"][\"date\"],\n",
        "                \"Link\": commit[\"html_url\"]\n",
        "            }\n",
        "            recent_commits.append(commit_info)\n",
        "\n",
        "        return recent_commits\n",
        "\n",
        "    except requests.exceptions.RequestException as e:\n",
        "        print(f\"Error fetching commit information: {e}\")\n",
        "        return []\n",
        "\n",
        "\n",
        "def display_commits(commits: List[Dict[str, str]]):\n",
        "    for idx, commit in enumerate(commits, start=1):\n",
        "        print(f\"Commit #{idx}\")\n",
        "        print(f\"Commit Message: {commit['Commit Message']}\")\n",
        "        print(f\"Author: {commit['Author']}\")\n",
        "        print(f\"Date: {commit['Date']}\")\n",
        "        print(f\"Link: {commit['Link']}\")\n",
        "        print(\"-\" * 40)\n",
        "\n",
        "\n",
        "\n",
        "commits = get_recent_commits(\"octocat/Hello-World\")\n",
        "display_commits(commits)"
      ]
    }
  ],
  "metadata": {
    "colab": {
      "provenance": [],
      "include_colab_link": true
    },
    "kernelspec": {
      "display_name": "Python 3",
      "name": "python3"
    },
    "language_info": {
      "name": "python"
    }
  },
  "nbformat": 4,
  "nbformat_minor": 0
}